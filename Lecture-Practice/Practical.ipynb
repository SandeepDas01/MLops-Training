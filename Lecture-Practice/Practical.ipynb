{
 "cells": [
  {
   "cell_type": "markdown",
   "metadata": {},
   "source": [
    "Task\n",
    "1. find travel time and then change it to hours\n",
    "2. Find who travel between 1 to 60 hr\n",
    "3. Train model \n",
    "        - LinearRegression\n",
    "        - Lasso\n",
    "        "
   ]
  },
  {
   "cell_type": "code",
   "execution_count": null,
   "metadata": {},
   "outputs": [],
   "source": [
    "import pandas as pd\n",
    "import seaborn as sns\n",
    "import matplotlib.pyplot as plt\n",
    "import pickle as pic"
   ]
  },
  {
   "cell_type": "code",
   "execution_count": null,
   "metadata": {},
   "outputs": [],
   "source": [
    "from sklearn.feature_extraction import DictVectorizer\n",
    "from sklearn.linear_model import LinearRegression,Lasso,Ridge\n",
    "from sklearn.metrics import mean_squared_error"
   ]
  },
  {
   "cell_type": "code",
   "execution_count": null,
   "metadata": {},
   "outputs": [],
   "source": [
    "#read file\n",
    "df=pd.read_parquet(\"https://d37ci6vzurychx.cloudfront.net/trip-data/green_tripdata_2021-02.parquet\")\n",
    "df\n",
    "\n",
    "\n",
    "df=pd.read_parquet(\"https://d37ci6vzurychx.cloudfront.net/trip-data/green_tripdata_2021-02.parquet\")\n",
    "df1"
   ]
  },
  {
   "cell_type": "code",
   "execution_count": null,
   "metadata": {},
   "outputs": [],
   "source": [
    "#select trip type=2\n",
    "df=df[df.trip_type==2]\n",
    "df\n",
    "\n",
    "\n",
    "df1=df1[df1.trip_type==2]"
   ]
  },
  {
   "cell_type": "code",
   "execution_count": null,
   "metadata": {},
   "outputs": [],
   "source": [
    "#find duration of travel in minute and apply it to all rows and filter and select only time between 1 to 60\n",
    "df['lpep_pickup_datetime'] = pd.to_datetime(df['lpep_pickup_datetime'])\n",
    "df['lpep_dropoff_datetime'] = pd.to_datetime(df['lpep_dropoff_datetime'])\n",
    "df[\"duration\"]=df.lpep_dropoff_datetime-df.lpep_pickup_datetime\n",
    "df.duration=df.duration.apply(lambda td: td.total_seconds()/60)\n",
    "df=df[(df.duration>=1) & (df.duration<=60)]\n",
    "\n",
    "\n",
    "\n",
    "\n",
    "\n",
    "\n",
    "df1['lpep_pickup_datetime']=pd.to_datetime(df1['lpep_pickup_datetime'])\n",
    "df1['lpep_dropoff_datetime']=pd.to_datetime(df1['lpep_dropoff_datetime'])\n",
    "df1[\"duration\"]=df1.lpep_dropoff_datetime-df1.lpep_pickup_datetime\n",
    "df1.duration=df1.duration.apply(lambda td: td.total_seconds()/60)\n",
    "df1=df1[(df1.duration>=1) & (df1.duration<=60)]\n",
    "\n",
    "\n",
    "#find independent variable change to object then to dictionary\n",
    "categorical=['PULocationID','DOLocationID']\n",
    "numerical=['trip_distance']\n",
    "df[categorical]=df[categorical].astype(str)\n",
    "\n",
    "\n",
    "Independent= ['PULocationID','DOLocationID']\n",
    "numerical=['trip_distance']\n",
    "df1['Independent'].astype(str)\"\"\n",
    "train_dict=df1[Independent+numerical].to_dict(orient=\"records\")"
   ]
  },
  {
   "cell_type": "code",
   "execution_count": null,
   "metadata": {},
   "outputs": [],
   "source": [
    "train_dict=df[categorical+numerical].to_dict(orient='records')\n",
    "dv=DictVectorizer()\n",
    "\n",
    "\n",
    "#find X_train and y train and model with Linear regression\n",
    "X_train=dv.fit_transform(train_dict)\n",
    "target='duration'\n",
    "y_train=df[target].values\n",
    "lr = LinearRegression()\n",
    "lr.fit(X_train,y_train)\n",
    "\n",
    "\n",
    "\n",
    "\n",
    "X_train1=dv.fit_transform(train_dict)\n",
    "predict=duration\n",
    "y_train=df1[predict].values\n",
    "lr = LinearRegression()\n",
    "lr.fit(X_train,y_train)\n",
    "\n",
    "#find y predict and mean square error\n",
    "y_pred=lr.predict(X_train)\n",
    "mean_squared_error(y_train,y_pred,squared=False)"
   ]
  },
  {
   "cell_type": "code",
   "execution_count": null,
   "metadata": {},
   "outputs": [],
   "source": []
  },
  {
   "cell_type": "code",
   "execution_count": null,
   "metadata": {},
   "outputs": [],
   "source": [
    "sns.displot(y_pred,label='prediction')\n",
    "sns.displot(y_train,label='actual')\n",
    "plt.legend()"
   ]
  },
  {
   "cell_type": "code",
   "execution_count": null,
   "metadata": {},
   "outputs": [],
   "source": [
    "#df=df[df.trip_type==2]\n",
    "#df"
   ]
  },
  {
   "cell_type": "code",
   "execution_count": null,
   "metadata": {},
   "outputs": [],
   "source": [
    "sns.distplot(df.duration)"
   ]
  },
  {
   "cell_type": "code",
   "execution_count": null,
   "metadata": {},
   "outputs": [],
   "source": [
    "df.duration.describe(percentiles=[0.05,0.98,0.99])"
   ]
  },
  {
   "cell_type": "code",
   "execution_count": null,
   "metadata": {},
   "outputs": [],
   "source": [
    "df_train['PU_DO']=df_train['PULocationID']+'_'+df_train['DOLocationID']\n",
    "df_val['PU_DO']=df_val['PULocationID']+'_'+df_val['DOLocationID']\n",
    "df_val"
   ]
  },
  {
   "cell_type": "code",
   "execution_count": null,
   "metadata": {},
   "outputs": [],
   "source": [
    "#make it in function\n",
    "def read_dataframe(filename):\n",
    "    df=pd.read_parquet(filename)\n",
    "    df['lpep_pickup_datetime'] = pd.to_datetime(df['lpep_pickup_datetime'])\n",
    "    df['lpep_dropoff_datetime'] = pd.to_datetime(df['lpep_dropoff_datetime'])\n",
    "    df[\"duration\"]=df.lpep_dropoff_datetime-df.lpep_pickup_datetime\n",
    "    df.duration=df.duration.apply(lambda td: td.total_seconds()/60)\n",
    "    df=df[(df.duration>=1) & (df.duration<=60)]\n",
    "    categorical=['PULocationID','DOLocationID']\n",
    "    #categorical=['PU_DO']\n",
    "    numerical=['trip_distance']\n",
    "    df[categorical]=df[categorical].astype(str)\n",
    "    return df\n"
   ]
  },
  {
   "cell_type": "code",
   "execution_count": null,
   "metadata": {},
   "outputs": [],
   "source": [
    "#validation\n",
    "df_train=read_dataframe('https://d37ci6vzurychx.cloudfront.net/trip-data/green_tripdata_2021-02.parquet')\n",
    "df_val=read_dataframe('https://d37ci6vzurychx.cloudfront.net/trip-data/green_tripdata_2021-01.parquet')\n",
    "len(df_train) , len(df_val)"
   ]
  },
  {
   "cell_type": "code",
   "execution_count": null,
   "metadata": {},
   "outputs": [],
   "source": [
    "dv=DictVectorizer()\n",
    "\n",
    "#train\n",
    "train_dict=df[categorical+numerical].to_dict(orient='records')\n",
    "X_train=dv.fit_transform(train_dict)\n",
    "\n",
    "\n",
    "#validation\n",
    "val_dicts=df_val[categorical+numerical].to_dict(orient='records')\n",
    "X_val=dv.transform(val_dicts)\n",
    "\n",
    "\n",
    "#what we need to find\n",
    "target='duration'\n",
    "y_train=df[target].values\n",
    "y_val=df_val[target].values\n",
    "\n"
   ]
  },
  {
   "cell_type": "code",
   "execution_count": null,
   "metadata": {},
   "outputs": [],
   "source": [
    "#linear Regression\n",
    "lr = LinearRegression()\n",
    "lr.fit(X_train,y_train)\n",
    "y_pred=lr.predict(X_val)\n",
    "mean_squared_error(y_val,y_pred,squared=False)"
   ]
  },
  {
   "cell_type": "code",
   "execution_count": null,
   "metadata": {},
   "outputs": [],
   "source": [
    "#lasso\n",
    "lr = Lasso(alpha=0.1)\n",
    "lr.fit(X_train,y_train)\n",
    "y_pred=lr.predict(X_val)\n",
    "mean_squared_error(y_val,y_pred,squared=False)"
   ]
  },
  {
   "cell_type": "code",
   "execution_count": null,
   "metadata": {},
   "outputs": [],
   "source": [
    "#Ridge\n",
    "lr = Ridge(alpha=1)\n",
    "lr.fit(X_train,y_train)\n",
    "y_pred=lr.predict(X_val)\n",
    "mean_squared_error(y_val,y_pred,squared=False)"
   ]
  },
  {
   "cell_type": "code",
   "execution_count": null,
   "metadata": {},
   "outputs": [],
   "source": [
    "#save model\n",
    "with open('models','wb') as f_out:\n",
    "    pic.dump((dv,lr),f_out)"
   ]
  },
  {
   "cell_type": "code",
   "execution_count": null,
   "metadata": {},
   "outputs": [],
   "source": [
    "td=df.duration.iloc[0]\n",
    "td.total_seconds()/60"
   ]
  },
  {
   "cell_type": "code",
   "execution_count": 2,
   "metadata": {},
   "outputs": [],
   "source": [
    "## Homework"
   ]
  },
  {
   "cell_type": "code",
   "execution_count": null,
   "metadata": {},
   "outputs": [],
   "source": [
    "import pandas as pd\n",
    "df=pd.read_parquet(\"\")\n",
    "\n",
    "\n",
    "df.drop=pd.to_datetime(df['drop'])\n",
    "df.pick=pd.to_datetime(df['pick'])\n",
    "df['duration'] = df.drop-df.pick\n",
    "df.dur.std()\n",
    "\n",
    "before=len(df)\n",
    "df1=df[(df.du>=1) & (df.du<=60)]\n",
    "after=len(df1)\n",
    "\n",
    "diff=after/before\n",
    "\n",
    "\n",
    "\n",
    "#X_train\n",
    "categorical = ['PULocationID','DOLocationID']\n",
    "df_jan[categorical] = df_jan[categorical].astype(str)\n",
    "train_dicts=df['cat'].to_dict(orient=\"records\")\n",
    "X_train = dv.fit_transform(train_dicts)\n",
    "y_train=df['dur'].values\n",
    "\n",
    "lr.fir(X_train,y_train)\n",
    "y_pred=lr.predict(X_train)\n",
    "mean_squared_error(y_pred,y_train,squared=False)\n",
    "\n"
   ]
  }
 ],
 "metadata": {
  "kernelspec": {
   "display_name": "Python 3.10.4 64-bit",
   "language": "python",
   "name": "python3"
  },
  "language_info": {
   "codemirror_mode": {
    "name": "ipython",
    "version": 3
   },
   "file_extension": ".py",
   "mimetype": "text/x-python",
   "name": "python",
   "nbconvert_exporter": "python",
   "pygments_lexer": "ipython3",
   "version": "3.10.13"
  },
  "vscode": {
   "interpreter": {
    "hash": "3ad933181bd8a04b432d3370b9dc3b0662ad032c4dfaa4e4f1596c548f763858"
   }
  }
 },
 "nbformat": 4,
 "nbformat_minor": 4
}
