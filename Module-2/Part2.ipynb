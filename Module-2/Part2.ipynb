{
 "cells": [
  {
   "cell_type": "code",
   "execution_count": 27,
   "metadata": {},
   "outputs": [],
   "source": [
    "import mlflow\n",
    "from mlflow.tracking import MlflowClient\n",
    "MLFLOW_TRACKING_URI = \"http://127.0.0.1:5000\""
   ]
  },
  {
   "cell_type": "code",
   "execution_count": 55,
   "metadata": {},
   "outputs": [
    {
     "data": {
      "text/plain": [
       "<Experiment: artifact_location='mlflow-artifacts:/431548450445816159', creation_time=1718785153935, experiment_id='431548450445816159', last_update_time=1718785153935, lifecycle_stage='active', name='gamer', tags={}>"
      ]
     },
     "execution_count": 55,
     "metadata": {},
     "output_type": "execute_result"
    }
   ],
   "source": [
    "client = MlflowClient(tracking_uri=MLFLOW_TRACKING_URI)\n",
    "client.get_experiment_by_name(name=\"gamer\")"
   ]
  },
  {
   "cell_type": "code",
   "execution_count": 56,
   "metadata": {},
   "outputs": [
    {
     "data": {
      "text/plain": [
       "[<Run: data=<RunData: metrics={'rmse': 5.242047147702308}, params={'learning_rate': '0.1212222356681564',\n",
       "  'max_depth': '4',\n",
       "  'min_child_weight': '3.830060509351922',\n",
       "  'objective': 'reg:linear',\n",
       "  'reg_alpha': '0.17455067131841767',\n",
       "  'reg_lambda': '0.011875948364425093',\n",
       "  'seed': '42'}, tags={'mlflow.log-model.history': '[{\"run_id\": \"d70b1b5572c942b59fcdd359ea982283\", '\n",
       "                              '\"artifact_path\": \"models_mlflow\", '\n",
       "                              '\"utc_time_created\": \"2024-06-20 '\n",
       "                              '06:41:13.161888\", \"flavors\": {\"python_function\": '\n",
       "                              '{\"loader_module\": \"mlflow.xgboost\", '\n",
       "                              '\"python_version\": \"3.10.13\", \"data\": '\n",
       "                              '\"model.xgb\", \"env\": {\"conda\": \"conda.yaml\", '\n",
       "                              '\"virtualenv\": \"python_env.yaml\"}}, \"xgboost\": '\n",
       "                              '{\"xgb_version\": \"2.0.3\", \"data\": \"model.xgb\", '\n",
       "                              '\"model_class\": \"xgboost.core.Booster\", '\n",
       "                              '\"model_format\": \"xgb\", \"code\": null}}, '\n",
       "                              '\"model_uuid\": '\n",
       "                              '\"2bb9c484118f4f5090c6fe03d79cdb1a\", '\n",
       "                              '\"mlflow_version\": \"2.14.0\", \"model_size_bytes\": '\n",
       "                              '381354}]',\n",
       "  'mlflow.runName': 'calm-mink-284',\n",
       "  'mlflow.source.name': '/home/codespace/.local/lib/python3.10/site-packages/ipykernel_launcher.py',\n",
       "  'mlflow.source.type': 'LOCAL',\n",
       "  'mlflow.user': 'codespace'}>, info=<RunInfo: artifact_uri='mlflow-artifacts:/431548450445816159/d70b1b5572c942b59fcdd359ea982283/artifacts', end_time=1718865674750, experiment_id='431548450445816159', lifecycle_stage='active', run_id='d70b1b5572c942b59fcdd359ea982283', run_name='calm-mink-284', run_uuid='d70b1b5572c942b59fcdd359ea982283', start_time=1718865631185, status='FINISHED', user_id='codespace'>, inputs=<RunInputs: dataset_inputs=[]>>,\n",
       " <Run: data=<RunData: metrics={'rmse': 5.242047147702308}, params={'learning_rate': '0.1212222356681564',\n",
       "  'max_depth': '4',\n",
       "  'min_child_weight': '3.830060509351922',\n",
       "  'objective': 'reg:linear',\n",
       "  'reg_alpha': '0.17455067131841767',\n",
       "  'reg_lambda': '0.011875948364425093',\n",
       "  'seed': '42'}, tags={'mlflow.log-model.history': '[{\"run_id\": \"5892a1e8b8b4437bab15fe623a159e45\", '\n",
       "                              '\"artifact_path\": \"models_mlflow\", '\n",
       "                              '\"utc_time_created\": \"2024-06-20 '\n",
       "                              '06:04:27.466992\", \"flavors\": {\"python_function\": '\n",
       "                              '{\"loader_module\": \"mlflow.xgboost\", '\n",
       "                              '\"python_version\": \"3.10.13\", \"data\": '\n",
       "                              '\"model.xgb\", \"env\": {\"conda\": \"conda.yaml\", '\n",
       "                              '\"virtualenv\": \"python_env.yaml\"}}, \"xgboost\": '\n",
       "                              '{\"xgb_version\": \"2.0.3\", \"data\": \"model.xgb\", '\n",
       "                              '\"model_class\": \"xgboost.core.Booster\", '\n",
       "                              '\"model_format\": \"xgb\", \"code\": null}}, '\n",
       "                              '\"model_uuid\": '\n",
       "                              '\"51d0ec883f244f998a26d57dd5d034b8\", '\n",
       "                              '\"mlflow_version\": \"2.14.0\", \"model_size_bytes\": '\n",
       "                              '381354}]',\n",
       "  'mlflow.runName': 'rare-zebra-209',\n",
       "  'mlflow.source.name': '/home/codespace/.local/lib/python3.10/site-packages/ipykernel_launcher.py',\n",
       "  'mlflow.source.type': 'LOCAL',\n",
       "  'mlflow.user': 'codespace'}>, info=<RunInfo: artifact_uri='mlflow-artifacts:/431548450445816159/5892a1e8b8b4437bab15fe623a159e45/artifacts', end_time=1718863470230, experiment_id='431548450445816159', lifecycle_stage='active', run_id='5892a1e8b8b4437bab15fe623a159e45', run_name='rare-zebra-209', run_uuid='5892a1e8b8b4437bab15fe623a159e45', start_time=1718863426284, status='FINISHED', user_id='codespace'>, inputs=<RunInputs: dataset_inputs=[]>>,\n",
       " <Run: data=<RunData: metrics={'rmse': 5.242047147702308}, params={'learning_rate': '0.1212222356681564',\n",
       "  'max_depth': '4',\n",
       "  'min_child_weight': '3.830060509351922',\n",
       "  'objective': 'reg:linear',\n",
       "  'reg_alpha': '0.17455067131841767',\n",
       "  'reg_lambda': '0.011875948364425093',\n",
       "  'seed': '42'}, tags={'mlflow.runName': 'welcoming-flea-265',\n",
       "  'mlflow.source.name': '/home/codespace/.local/lib/python3.10/site-packages/ipykernel_launcher.py',\n",
       "  'mlflow.source.type': 'LOCAL',\n",
       "  'mlflow.user': 'codespace'}>, info=<RunInfo: artifact_uri='mlflow-artifacts:/431548450445816159/fd113554612e4c45acd4377218db1271/artifacts', end_time=1718863342156, experiment_id='431548450445816159', lifecycle_stage='active', run_id='fd113554612e4c45acd4377218db1271', run_name='welcoming-flea-265', run_uuid='fd113554612e4c45acd4377218db1271', start_time=1718863299268, status='FAILED', user_id='codespace'>, inputs=<RunInputs: dataset_inputs=[]>>,\n",
       " <Run: data=<RunData: metrics={'rmse': 5.242047147702308}, params={'learning_rate': '0.1212222356681564',\n",
       "  'max_depth': '4',\n",
       "  'min_child_weight': '3.830060509351922',\n",
       "  'objective': 'reg:linear',\n",
       "  'reg_alpha': '0.17455067131841767',\n",
       "  'reg_lambda': '0.011875948364425093',\n",
       "  'seed': '42'}, tags={'mlflow.runName': 'caring-smelt-700',\n",
       "  'mlflow.source.name': '/home/codespace/.local/lib/python3.10/site-packages/ipykernel_launcher.py',\n",
       "  'mlflow.source.type': 'LOCAL',\n",
       "  'mlflow.user': 'codespace'}>, info=<RunInfo: artifact_uri='mlflow-artifacts:/431548450445816159/e67f10ff6da848c5bf454f6573f52078/artifacts', end_time=1718863218436, experiment_id='431548450445816159', lifecycle_stage='active', run_id='e67f10ff6da848c5bf454f6573f52078', run_name='caring-smelt-700', run_uuid='e67f10ff6da848c5bf454f6573f52078', start_time=1718863176730, status='FAILED', user_id='codespace'>, inputs=<RunInputs: dataset_inputs=[]>>,\n",
       " <Run: data=<RunData: metrics={'rmse': 5.242047147702308}, params={'learning_rate': '0.1212222356681564',\n",
       "  'max_depth': '4',\n",
       "  'min_child_weight': '3.830060509351922',\n",
       "  'objective': 'reg:linear',\n",
       "  'reg_alpha': '0.17455067131841767',\n",
       "  'reg_lambda': '0.011875948364425093',\n",
       "  'seed': '42'}, tags={'mlflow.runName': 'bright-duck-611',\n",
       "  'mlflow.source.name': '/home/codespace/.local/lib/python3.10/site-packages/ipykernel_launcher.py',\n",
       "  'mlflow.source.type': 'LOCAL',\n",
       "  'mlflow.user': 'codespace',\n",
       "  'model': 'xgboost'}>, info=<RunInfo: artifact_uri='mlflow-artifacts:/431548450445816159/c11c47a3ff6b4843b344df66bf57b3ac/artifacts', end_time=1718861446958, experiment_id='431548450445816159', lifecycle_stage='active', run_id='c11c47a3ff6b4843b344df66bf57b3ac', run_name='bright-duck-611', run_uuid='c11c47a3ff6b4843b344df66bf57b3ac', start_time=1718861405891, status='FINISHED', user_id='codespace'>, inputs=<RunInputs: dataset_inputs=[]>>]"
      ]
     },
     "execution_count": 56,
     "metadata": {},
     "output_type": "execute_result"
    }
   ],
   "source": [
    "from mlflow.entities import ViewType\n",
    "\n",
    "runs = client.search_runs(\n",
    "    experiment_ids='431548450445816159',\n",
    "    filter_string=\"metrics.rmse < 7\",\n",
    "    run_view_type=ViewType.ACTIVE_ONLY,\n",
    "    max_results=5,\n",
    "    order_by=[\"metrics.rmse ASC\"]\n",
    ")\n",
    "runs"
   ]
  },
  {
   "cell_type": "code",
   "execution_count": 57,
   "metadata": {},
   "outputs": [
    {
     "name": "stdout",
     "output_type": "stream",
     "text": [
      "run id: d70b1b5572c942b59fcdd359ea982283, rmse: 5.2420\n",
      "run id: 5892a1e8b8b4437bab15fe623a159e45, rmse: 5.2420\n",
      "run id: fd113554612e4c45acd4377218db1271, rmse: 5.2420\n",
      "run id: e67f10ff6da848c5bf454f6573f52078, rmse: 5.2420\n",
      "run id: c11c47a3ff6b4843b344df66bf57b3ac, rmse: 5.2420\n"
     ]
    }
   ],
   "source": [
    "for run in runs:\n",
    "    print(f\"run id: {run.info.run_id}, rmse: {run.data.metrics['rmse']:.4f}\")"
   ]
  },
  {
   "cell_type": "code",
   "execution_count": 58,
   "metadata": {},
   "outputs": [],
   "source": [
    "import mlflow\n",
    "\n",
    "mlflow.set_tracking_uri(MLFLOW_TRACKING_URI)"
   ]
  },
  {
   "cell_type": "code",
   "execution_count": 59,
   "metadata": {},
   "outputs": [
    {
     "name": "stderr",
     "output_type": "stream",
     "text": [
      "Successfully registered model 'gamer'.\n",
      "2024/06/20 07:21:57 INFO mlflow.store.model_registry.abstract_store: Waiting up to 300 seconds for model version to finish creation. Model name: gamer, version 1\n",
      "Created version '1' of model 'gamer'.\n"
     ]
    },
    {
     "data": {
      "text/plain": [
       "<ModelVersion: aliases=[], creation_timestamp=1718868117792, current_stage='None', description='', last_updated_timestamp=1718868117792, name='gamer', run_id='d70b1b5572c942b59fcdd359ea982283', run_link='', source='mlflow-artifacts:/431548450445816159/d70b1b5572c942b59fcdd359ea982283/artifacts/model', status='READY', status_message='', tags={}, user_id='', version='1'>"
      ]
     },
     "execution_count": 59,
     "metadata": {},
     "output_type": "execute_result"
    }
   ],
   "source": [
    "run_id = \"d70b1b5572c942b59fcdd359ea982283\"\n",
    "model_uri = f\"runs:/{run_id}/model\"\n",
    "mlflow.register_model(model_uri=model_uri, name=\"gamer\")"
   ]
  },
  {
   "cell_type": "code",
   "execution_count": 60,
   "metadata": {},
   "outputs": [
    {
     "name": "stdout",
     "output_type": "stream",
     "text": [
      "version: 1, stage: None\n"
     ]
    },
    {
     "name": "stderr",
     "output_type": "stream",
     "text": [
      "/tmp/ipykernel_67122/3018547499.py:2: FutureWarning: ``mlflow.tracking.client.MlflowClient.get_latest_versions`` is deprecated since 2.9.0. Model registry stages will be removed in a future major release. To learn more about the deprecation of model registry stages, see our migration guide here: https://mlflow.org/docs/2.14.0/model-registry.html#migrating-from-stages\n",
      "  latest_versions = client.get_latest_versions(name=model_name)\n"
     ]
    }
   ],
   "source": [
    "model_name = \"gamer\"\n",
    "latest_versions = client.get_latest_versions(name=model_name)\n",
    "\n",
    "for version in latest_versions:\n",
    "    print(f\"version: {version.version}, stage: {version.current_stage}\")"
   ]
  },
  {
   "cell_type": "code",
   "execution_count": 63,
   "metadata": {},
   "outputs": [
    {
     "name": "stderr",
     "output_type": "stream",
     "text": [
      "/tmp/ipykernel_67122/1600074043.py:3: FutureWarning: ``mlflow.tracking.client.MlflowClient.transition_model_version_stage`` is deprecated since 2.9.0. Model registry stages will be removed in a future major release. To learn more about the deprecation of model registry stages, see our migration guide here: https://mlflow.org/docs/2.14.0/model-registry.html#migrating-from-stages\n",
      "  client.transition_model_version_stage(\n"
     ]
    },
    {
     "data": {
      "text/plain": [
       "<ModelVersion: aliases=[], creation_timestamp=1718868117792, current_stage='Staging', description='', last_updated_timestamp=1718868313120, name='gamer', run_id='d70b1b5572c942b59fcdd359ea982283', run_link='', source='mlflow-artifacts:/431548450445816159/d70b1b5572c942b59fcdd359ea982283/artifacts/model', status='READY', status_message='', tags={}, user_id='', version='1'>"
      ]
     },
     "execution_count": 63,
     "metadata": {},
     "output_type": "execute_result"
    }
   ],
   "source": [
    "model_version = 1\n",
    "new_stage = \"Staging\"\n",
    "client.transition_model_version_stage(\n",
    "    name=model_name,\n",
    "    version=model_version,\n",
    "    stage=new_stage,\n",
    "    archive_existing_versions=False\n",
    ")"
   ]
  },
  {
   "cell_type": "code",
   "execution_count": 64,
   "metadata": {},
   "outputs": [
    {
     "data": {
      "text/plain": [
       "<ModelVersion: aliases=[], creation_timestamp=1718868117792, current_stage='Staging', description='The model version 1 was transitioned to Staging on 2024-06-20', last_updated_timestamp=1718868349295, name='gamer', run_id='d70b1b5572c942b59fcdd359ea982283', run_link='', source='mlflow-artifacts:/431548450445816159/d70b1b5572c942b59fcdd359ea982283/artifacts/model', status='READY', status_message='', tags={}, user_id='', version='1'>"
      ]
     },
     "execution_count": 64,
     "metadata": {},
     "output_type": "execute_result"
    }
   ],
   "source": [
    "from datetime import datetime\n",
    "\n",
    "date = datetime.today().date()\n",
    "client.update_model_version(\n",
    "    name=model_name,\n",
    "    version=model_version,\n",
    "    description=f\"The model version {model_version} was transitioned to {new_stage} on {date}\"\n",
    ")"
   ]
  }
 ],
 "metadata": {
  "kernelspec": {
   "display_name": "Python 3.10.4 64-bit",
   "language": "python",
   "name": "python3"
  },
  "language_info": {
   "codemirror_mode": {
    "name": "ipython",
    "version": 3
   },
   "file_extension": ".py",
   "mimetype": "text/x-python",
   "name": "python",
   "nbconvert_exporter": "python",
   "pygments_lexer": "ipython3",
   "version": "3.10.13"
  },
  "vscode": {
   "interpreter": {
    "hash": "3ad933181bd8a04b432d3370b9dc3b0662ad032c4dfaa4e4f1596c548f763858"
   }
  }
 },
 "nbformat": 4,
 "nbformat_minor": 4
}
